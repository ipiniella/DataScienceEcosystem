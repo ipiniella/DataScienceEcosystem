{
 "cells": [
  {
   "cell_type": "markdown",
   "id": "248f0954-5a07-4f94-8c5c-c6cdd1a4d8ef",
   "metadata": {},
   "source": [
    "# Data Science Tools and Ecosystem "
   ]
  },
  {
   "cell_type": "markdown",
   "id": "8d23d9f7-0159-4c65-aecb-44439ad2f1f1",
   "metadata": {},
   "source": [
    "In this notebook, Data Science Tools and Ecosystem are summarized.\n"
   ]
  },
  {
   "cell_type": "markdown",
   "id": "5493bfa7-1598-4a5c-9cf4-39cbdae6c592",
   "metadata": {},
   "source": [
    "**Objectives:**"
   ]
  },
  {
   "cell_type": "markdown",
   "id": "3dd64e8c-560d-4304-a59f-fa1c653e72bd",
   "metadata": {},
   "source": [
    "List popular languages for Data Science:"
   ]
  },
  {
   "cell_type": "markdown",
   "id": "c64fddc6-b355-448b-8452-9d7a108fe520",
   "metadata": {},
   "source": [
    "+ Python\n",
    "+ SQL\n",
    "+ R"
   ]
  },
  {
   "cell_type": "markdown",
   "id": "336fcdd7-91d0-4d51-aac3-bfb4af2390ba",
   "metadata": {},
   "source": [
    "Some of the popular languages that Data Scientists use are:\n"
   ]
  },
  {
   "cell_type": "markdown",
   "id": "1a7360c7-b39b-468b-b8a5-bff8d32a1f0c",
   "metadata": {},
   "source": [
    "1. Python\n",
    "2. R\n",
    "3. SQL"
   ]
  },
  {
   "cell_type": "markdown",
   "id": "98c99a38-39d6-4d04-ac40-64d7f99b2f46",
   "metadata": {},
   "source": [
    "Some of the commonly used libraries used by Data Scientists include:"
   ]
  },
  {
   "cell_type": "markdown",
   "id": "3c76b2e7-10b3-43e7-9c24-3dbcfe27c385",
   "metadata": {},
   "source": [
    "1. Pandas\n",
    "2. NumPy\n",
    "3. Scikit-learn"
   ]
  },
  {
   "cell_type": "markdown",
   "id": "57c44891-5151-4795-9353-13ceea496156",
   "metadata": {},
   "source": [
    "| Data Science Tools |\n",
    "|--------------------|\n",
    "| Jupyter Notebook |\n",
    "| RStudio |\n",
    "| Apache Zeppelin |"
   ]
  },
  {
   "cell_type": "markdown",
   "id": "2801798d-c8cd-46cb-9ac8-0137e71ddea3",
   "metadata": {},
   "source": [
    "### Below are a few examples of evaluating arithmetic expressions in Python"
   ]
  },
  {
   "cell_type": "markdown",
   "id": "3c77fb7c-0703-42b0-96a6-2ae61818626a",
   "metadata": {},
   "source": [
    "This a simple arithmetic expression to mutiply then add integers"
   ]
  },
  {
   "cell_type": "code",
   "execution_count": 3,
   "id": "e2e3e780-f148-4b26-ad28-3b854b508fe1",
   "metadata": {},
   "outputs": [
    {
     "data": {
      "text/plain": [
       "17"
      ]
     },
     "execution_count": 3,
     "metadata": {},
     "output_type": "execute_result"
    }
   ],
   "source": [
    "(3*4)+5"
   ]
  },
  {
   "cell_type": "markdown",
   "id": "2707273d-4c15-48ef-ad4c-7c0d8af15b0c",
   "metadata": {},
   "source": [
    "This will convert 200 minutes to hours by diving by 60"
   ]
  },
  {
   "cell_type": "code",
   "execution_count": 6,
   "id": "967baf61-65a0-428f-8630-1aed60ae143d",
   "metadata": {},
   "outputs": [
    {
     "name": "stdout",
     "output_type": "stream",
     "text": [
      "200 is equal to 3.3333333333333335 hours.\n"
     ]
    }
   ],
   "source": [
    "minutes = 200\n",
    "hours = minutes / 60\n",
    "print(f\"{minutes} is equal to {hours} hours.\")"
   ]
  },
  {
   "cell_type": "markdown",
   "id": "3ba58047-230a-43a4-bcee-5387d646950e",
   "metadata": {},
   "source": [
    "## Author\n",
    "Ivan Piniella"
   ]
  },
  {
   "cell_type": "code",
   "execution_count": null,
   "id": "636f8ce9-6a0e-437a-9cc5-a70fd7eb8480",
   "metadata": {},
   "outputs": [],
   "source": []
  }
 ],
 "metadata": {
  "kernelspec": {
   "display_name": "Python [conda env:base] *",
   "language": "python",
   "name": "conda-base-py"
  },
  "language_info": {
   "codemirror_mode": {
    "name": "ipython",
    "version": 3
   },
   "file_extension": ".py",
   "mimetype": "text/x-python",
   "name": "python",
   "nbconvert_exporter": "python",
   "pygments_lexer": "ipython3",
   "version": "3.12.7"
  }
 },
 "nbformat": 4,
 "nbformat_minor": 5
}
